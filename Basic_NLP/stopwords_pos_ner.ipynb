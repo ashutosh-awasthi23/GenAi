{
 "cells": [
  {
   "cell_type": "markdown",
   "id": "537bb389",
   "metadata": {},
   "source": [
    "#### Important Imports"
   ]
  },
  {
   "cell_type": "code",
   "execution_count": 8,
   "id": "2a9f4b6e",
   "metadata": {},
   "outputs": [],
   "source": [
    "import nltk\n",
    "import string\n",
    "from nltk.corpus import stopwords\n",
    "from nltk.tokenize import word_tokenize\n",
    "from nltk.stem import WordNetLemmatizer\n",
    "from nltk import pos_tag\n",
    "import spacy\n",
    "\n",
    "\n"
   ]
  },
  {
   "cell_type": "code",
   "execution_count": 2,
   "id": "0189b479",
   "metadata": {},
   "outputs": [
    {
     "name": "stderr",
     "output_type": "stream",
     "text": [
      "[nltk_data] Downloading package stopwords to\n",
      "[nltk_data]     C:\\Users\\ashutoshawasthi\\AppData\\Roaming\\nltk_data...\n",
      "[nltk_data]   Package stopwords is already up-to-date!\n",
      "[nltk_data] Downloading package averaged_perceptron_tagger to\n",
      "[nltk_data]     C:\\Users\\ashutoshawasthi\\AppData\\Roaming\\nltk_data...\n",
      "[nltk_data]   Package averaged_perceptron_tagger is already up-to-\n",
      "[nltk_data]       date!\n",
      "[nltk_data] Downloading package punkt to\n",
      "[nltk_data]     C:\\Users\\ashutoshawasthi\\AppData\\Roaming\\nltk_data...\n",
      "[nltk_data]   Package punkt is already up-to-date!\n"
     ]
    },
    {
     "data": {
      "text/plain": [
       "True"
      ]
     },
     "execution_count": 2,
     "metadata": {},
     "output_type": "execute_result"
    }
   ],
   "source": [
    "\n",
    "nltk.download(\"stopwords\")\n",
    "nltk.download('averaged_perceptron_tagger')\n",
    "nltk.download('punkt')"
   ]
  },
  {
   "cell_type": "code",
   "execution_count": 3,
   "id": "a3e7df83",
   "metadata": {},
   "outputs": [],
   "source": [
    "text = \"Apple Inc. announced its quarterly earnings on Wednesday, surprising investors with a 10% increase in revenue. CEO Tim Cook attributed the growth to strong iPhone sales in North America and expanding markets in Asia. Meanwhile, analysts from Goldman Sachs predicted continued growth if current trends persist.\""
   ]
  },
  {
   "cell_type": "code",
   "execution_count": 4,
   "id": "b8ea31a6",
   "metadata": {},
   "outputs": [],
   "source": [
    "lemma = WordNetLemmatizer()"
   ]
  },
  {
   "cell_type": "code",
   "execution_count": 11,
   "id": "48ab491c",
   "metadata": {},
   "outputs": [],
   "source": [
    "swords = stopwords.words(\"english\")\n",
    "tokens = word_tokenize(text)\n",
    "tokens = [lemma.lemmatize(word.lower()) for word in tokens if word not in swords and word not in string.punctuation]"
   ]
  },
  {
   "cell_type": "code",
   "execution_count": 12,
   "id": "1a9125b8",
   "metadata": {},
   "outputs": [],
   "source": [
    "text = \" \".join(tokens)"
   ]
  },
  {
   "cell_type": "code",
   "execution_count": 18,
   "id": "cf70ad69",
   "metadata": {},
   "outputs": [
    {
     "name": "stdout",
     "output_type": "stream",
     "text": [
      "apple+----->+NNP\n",
      "inc+----->+NNP\n",
      ".+----->+NNP\n",
      "announced+----->+VBD\n",
      "quarterly+----->+JJ\n",
      "earnings+----->+NNS\n",
      "wednesday+----->+NNP\n",
      "surprising+----->+JJ\n",
      "investor+----->+NN\n",
      "10+----->+CD\n",
      "increase+----->+NN\n",
      "revenue+----->+NN\n",
      "ceo+----->+NN\n",
      "tim+----->+NNP\n",
      "cook+----->+NNP\n",
      "attributed+----->+VBN\n",
      "growth+----->+NN\n",
      "strong+----->+JJ\n",
      "iphone+----->+NN\n",
      "sale+----->+NN\n",
      "north+----->+NNP\n",
      "america+----->+NNP\n",
      "expanding+----->+VBG\n",
      "market+----->+NN\n",
      "asia+----->+NNP\n",
      "meanwhile+----->+RB\n",
      "analyst+----->+NN\n",
      "goldman+----->+NNP\n",
      "sachs+----->+NNP\n",
      "predicted+----->+VBD\n",
      "continued+----->+JJ\n",
      "growth+----->+NN\n",
      "current+----->+JJ\n",
      "trend+----->+NN\n",
      "persist+----->+NN\n"
     ]
    }
   ],
   "source": [
    "nlp = spacy.load(\"en_core_web_sm\")\n",
    "text = nlp(text)\n",
    "for i in text:\n",
    "    print(f\"{i}+----->+{i.tag_}\")\n"
   ]
  },
  {
   "cell_type": "code",
   "execution_count": 20,
   "id": "3c72cbaa",
   "metadata": {},
   "outputs": [
    {
     "name": "stdout",
     "output_type": "stream",
     "text": [
      "Entity: apple inc., Label: ORG, Explanation: Companies, agencies, institutions, etc.\n",
      "Entity: quarterly, Label: DATE, Explanation: Absolute or relative dates or periods\n",
      "Entity: wednesday, Label: DATE, Explanation: Absolute or relative dates or periods\n",
      "Entity: 10, Label: CARDINAL, Explanation: Numerals that do not fall under another type\n",
      "Entity: tim cook, Label: PERSON, Explanation: People, including fictional\n",
      "Entity: north america, Label: LOC, Explanation: Non-GPE locations, mountain ranges, bodies of water\n",
      "Entity: asia, Label: LOC, Explanation: Non-GPE locations, mountain ranges, bodies of water\n"
     ]
    }
   ],
   "source": [
    "for i in text.ents:\n",
    "     print(f\"Entity: {i.text}, Label: {i.label_}, Explanation: {spacy.explain(i.label_)}\")"
   ]
  },
  {
   "cell_type": "code",
   "execution_count": null,
   "id": "2d9af3b9",
   "metadata": {},
   "outputs": [],
   "source": []
  }
 ],
 "metadata": {
  "kernelspec": {
   "display_name": "genaienv",
   "language": "python",
   "name": "python3"
  },
  "language_info": {
   "codemirror_mode": {
    "name": "ipython",
    "version": 3
   },
   "file_extension": ".py",
   "mimetype": "text/x-python",
   "name": "python",
   "nbconvert_exporter": "python",
   "pygments_lexer": "ipython3",
   "version": "3.12.10"
  }
 },
 "nbformat": 4,
 "nbformat_minor": 5
}
