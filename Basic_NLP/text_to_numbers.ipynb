{
 "cells": [
  {
   "cell_type": "markdown",
   "id": "1a09079c",
   "metadata": {},
   "source": [
    "#### Important imports"
   ]
  },
  {
   "cell_type": "code",
   "execution_count": 78,
   "id": "d43e2ac2",
   "metadata": {},
   "outputs": [],
   "source": [
    "import pandas as pd\n",
    "import nltk\n",
    "import string\n",
    "from nltk.tokenize import word_tokenize\n",
    "from nltk.stem import WordNetLemmatizer\n",
    "from nltk.corpus import stopwords\n",
    "from sklearn.feature_extraction.text import CountVectorizer\n",
    "from sklearn.feature_extraction.text import TfidfVectorizer"
   ]
  },
  {
   "cell_type": "code",
   "execution_count": 68,
   "id": "348c81af",
   "metadata": {},
   "outputs": [
    {
     "name": "stderr",
     "output_type": "stream",
     "text": [
      "[nltk_data] Downloading package stopwords to\n",
      "[nltk_data]     C:\\Users\\ashutoshawasthi\\AppData\\Roaming\\nltk_data...\n",
      "[nltk_data]   Package stopwords is already up-to-date!\n"
     ]
    },
    {
     "data": {
      "text/plain": [
       "True"
      ]
     },
     "execution_count": 68,
     "metadata": {},
     "output_type": "execute_result"
    }
   ],
   "source": [
    "nltk.download(\"stopwords\")"
   ]
  },
  {
   "cell_type": "markdown",
   "id": "bd358192",
   "metadata": {},
   "source": [
    "#### Data Loading and Preprocessing"
   ]
  },
  {
   "cell_type": "code",
   "execution_count": 69,
   "id": "facb4f43",
   "metadata": {},
   "outputs": [
    {
     "data": {
      "text/html": [
       "<div>\n",
       "<style scoped>\n",
       "    .dataframe tbody tr th:only-of-type {\n",
       "        vertical-align: middle;\n",
       "    }\n",
       "\n",
       "    .dataframe tbody tr th {\n",
       "        vertical-align: top;\n",
       "    }\n",
       "\n",
       "    .dataframe thead th {\n",
       "        text-align: right;\n",
       "    }\n",
       "</style>\n",
       "<table border=\"1\" class=\"dataframe\">\n",
       "  <thead>\n",
       "    <tr style=\"text-align: right;\">\n",
       "      <th></th>\n",
       "      <th>label</th>\n",
       "      <th>message</th>\n",
       "    </tr>\n",
       "  </thead>\n",
       "  <tbody>\n",
       "    <tr>\n",
       "      <th>0</th>\n",
       "      <td>ham</td>\n",
       "      <td>Go until jurong point, crazy.. Available only ...</td>\n",
       "    </tr>\n",
       "    <tr>\n",
       "      <th>1</th>\n",
       "      <td>ham</td>\n",
       "      <td>Ok lar... Joking wif u oni...</td>\n",
       "    </tr>\n",
       "    <tr>\n",
       "      <th>2</th>\n",
       "      <td>spam</td>\n",
       "      <td>Free entry in 2 a wkly comp to win FA Cup fina...</td>\n",
       "    </tr>\n",
       "    <tr>\n",
       "      <th>3</th>\n",
       "      <td>ham</td>\n",
       "      <td>U dun say so early hor... U c already then say...</td>\n",
       "    </tr>\n",
       "    <tr>\n",
       "      <th>4</th>\n",
       "      <td>ham</td>\n",
       "      <td>Nah I don't think he goes to usf, he lives aro...</td>\n",
       "    </tr>\n",
       "    <tr>\n",
       "      <th>...</th>\n",
       "      <td>...</td>\n",
       "      <td>...</td>\n",
       "    </tr>\n",
       "    <tr>\n",
       "      <th>5567</th>\n",
       "      <td>spam</td>\n",
       "      <td>This is the 2nd time we have tried 2 contact u...</td>\n",
       "    </tr>\n",
       "    <tr>\n",
       "      <th>5568</th>\n",
       "      <td>ham</td>\n",
       "      <td>Will Ì_ b going to esplanade fr home?</td>\n",
       "    </tr>\n",
       "    <tr>\n",
       "      <th>5569</th>\n",
       "      <td>ham</td>\n",
       "      <td>Pity, * was in mood for that. So...any other s...</td>\n",
       "    </tr>\n",
       "    <tr>\n",
       "      <th>5570</th>\n",
       "      <td>ham</td>\n",
       "      <td>The guy did some bitching but I acted like i'd...</td>\n",
       "    </tr>\n",
       "    <tr>\n",
       "      <th>5571</th>\n",
       "      <td>ham</td>\n",
       "      <td>Rofl. Its true to its name</td>\n",
       "    </tr>\n",
       "  </tbody>\n",
       "</table>\n",
       "<p>5572 rows × 2 columns</p>\n",
       "</div>"
      ],
      "text/plain": [
       "     label                                            message\n",
       "0      ham  Go until jurong point, crazy.. Available only ...\n",
       "1      ham                      Ok lar... Joking wif u oni...\n",
       "2     spam  Free entry in 2 a wkly comp to win FA Cup fina...\n",
       "3      ham  U dun say so early hor... U c already then say...\n",
       "4      ham  Nah I don't think he goes to usf, he lives aro...\n",
       "...    ...                                                ...\n",
       "5567  spam  This is the 2nd time we have tried 2 contact u...\n",
       "5568   ham              Will Ì_ b going to esplanade fr home?\n",
       "5569   ham  Pity, * was in mood for that. So...any other s...\n",
       "5570   ham  The guy did some bitching but I acted like i'd...\n",
       "5571   ham                         Rofl. Its true to its name\n",
       "\n",
       "[5572 rows x 2 columns]"
      ]
     },
     "execution_count": 69,
     "metadata": {},
     "output_type": "execute_result"
    }
   ],
   "source": [
    "df = pd.read_csv(r\"Dataset\\Spam.csv\", encoding='windows-1252')\n",
    "df.drop([\"Unnamed: 2\",\"Unnamed: 3\",\"Unnamed: 4\"],axis = 1,inplace = True)\n",
    "df.columns = [\"label\",\"message\"]\n",
    "df"
   ]
  },
  {
   "cell_type": "code",
   "execution_count": 70,
   "id": "2eaf17d9",
   "metadata": {},
   "outputs": [],
   "source": [
    "lemma =  WordNetLemmatizer()\n",
    "swords = stopwords.words(\"english\")\n",
    "def pre_process(text):\n",
    "    tokens  = word_tokenize(text)\n",
    "    tokens = [lemma.lemmatize(x.lower()) for x in tokens if x not in swords and len(x)>=2 and x not in string.punctuation and x.isalnum()]\n",
    "    return \" \".join(tokens)\n",
    "    \n",
    "    \n",
    "    "
   ]
  },
  {
   "cell_type": "code",
   "execution_count": 71,
   "id": "cd0d9c8c",
   "metadata": {},
   "outputs": [],
   "source": [
    "df[\"clean_message\"] = df[\"message\"].apply(pre_process)"
   ]
  },
  {
   "cell_type": "markdown",
   "id": "7348a993",
   "metadata": {},
   "source": [
    "#### Bag of Words"
   ]
  },
  {
   "cell_type": "code",
   "execution_count": 77,
   "id": "54279ed2",
   "metadata": {},
   "outputs": [
    {
     "name": "stdout",
     "output_type": "stream",
     "text": [
      "[[0 0 0 ... 0 0 0]\n",
      " [0 0 0 ... 0 0 0]\n",
      " [0 0 0 ... 0 0 0]\n",
      " ...\n",
      " [0 0 0 ... 0 0 0]\n",
      " [0 0 0 ... 0 0 0]\n",
      " [0 0 0 ... 0 0 0]]\n",
      "['already' 'amp' 'and' 'are' 'ask' 'back' 'but' 'call' 'can' 'claim'\n",
      " 'come' 'da' 'day' 'dear' 'do' 'dont' 'free' 'friend' 'get' 'give' 'go'\n",
      " 'going' 'good' 'got' 'great' 'gt' 'happy' 'have' 'hey' 'hi' 'home' 'hope'\n",
      " 'how' 'if' 'it' 'just' 'know' 'later' 'let' 'like' 'lor' 'love' 'lt'\n",
      " 'make' 'message' 'min' 'mobile' 'msg' 'much' 'my' 'na' 'need' 'new'\n",
      " 'night' 'no' 'now' 'number' 'oh' 'ok' 'one' 'phone' 'please' 'pls'\n",
      " 'prize' 'reply' 'right' 'said' 'say' 'see' 'send' 'so' 'sorry' 'still'\n",
      " 'stop' 'take' 'tell' 'text' 'the' 'thing' 'think' 'this' 'time' 'to'\n",
      " 'today' 'tomorrow' 'txt' 'ur' 'wan' 'want' 'wat' 'way' 'we' 'week' 'well'\n",
      " 'what' 'work' 'yeah' 'yes' 'you' 'your']\n"
     ]
    }
   ],
   "source": [
    "cv = CountVectorizer(max_features=100)\n",
    "x = cv.fit_transform(df[\"clean_message\"])\n",
    "print(x.toarray())\n",
    "print(cv.get_feature_names_out())"
   ]
  },
  {
   "cell_type": "markdown",
   "id": "95dc9081",
   "metadata": {},
   "source": [
    "#### TFIDF "
   ]
  },
  {
   "cell_type": "code",
   "execution_count": 80,
   "id": "a99dec11",
   "metadata": {},
   "outputs": [
    {
     "name": "stdout",
     "output_type": "stream",
     "text": [
      "[[0. 0. 0. ... 0. 0. 0.]\n",
      " [0. 0. 0. ... 0. 0. 0.]\n",
      " [0. 0. 0. ... 0. 0. 0.]\n",
      " ...\n",
      " [0. 0. 0. ... 0. 0. 0.]\n",
      " [0. 0. 0. ... 0. 0. 0.]\n",
      " [0. 0. 0. ... 0. 0. 0.]]\n",
      "['already' 'also' 'always' 'amp' 'and' 'anything' 'are' 'around' 'ask'\n",
      " 'babe' 'back' 'but' 'buy' 'ca' 'call' 'can' 'cant' 'care' 'cash' 'chat'\n",
      " 'claim' 'co' 'come' 'coming' 'contact' 'could' 'customer' 'da' 'day'\n",
      " 'dear' 'did' 'do' 'done' 'dont' 'dun' 'end' 'even' 'every' 'feel' 'find'\n",
      " 'fine' 'first' 'for' 'free' 'friend' 'get' 'getting' 'girl' 'give' 'go'\n",
      " 'going' 'gon' 'good' 'got' 'great' 'gt' 'guaranteed' 'gud' 'guy' 'haha'\n",
      " 'happy' 'have' 'he' 'heart' 'help' 'hey' 'hi' 'home' 'hope' 'hour' 'how'\n",
      " 'if' 'im' 'in' 'is' 'it' 'just' 'keep' 'know' 'last' 'late' 'later'\n",
      " 'leave' 'let' 'life' 'like' 'lol' 'lor' 'lot' 'love' 'lt' 'make' 'many'\n",
      " 'may' 'me' 'meet' 'message' 'min' 'minute' 'miss' 'mobile' 'money'\n",
      " 'morning' 'msg' 'much' 'my' 'na' 'name' 'need' 'new' 'next' 'nice'\n",
      " 'night' 'no' 'nokia' 'not' 'now' 'number' 'offer' 'oh' 'ok' 'one'\n",
      " 'people' 'per' 'person' 'phone' 'pick' 'place' 'please' 'pls' 'prize'\n",
      " 'really' 'reply' 'right' 'said' 'say' 'see' 'send' 'sent' 'service' 'she'\n",
      " 'show' 'sleep' 'smile' 'so' 'someone' 'something' 'soon' 'sorry' 'still'\n",
      " 'stop' 'sure' 'take' 'tell' 'text' 'thanks' 'that' 'the' 'then' 'thing'\n",
      " 'think' 'this' 'thk' 'time' 'to' 'today' 'told' 'tomorrow' 'tone'\n",
      " 'tonight' 'try' 'txt' 'ur' 'urgent' 'use' 'wait' 'waiting' 'wan' 'want'\n",
      " 'wat' 'way' 'we' 'week' 'well' 'went' 'what' 'when' 'win' 'wish' 'word'\n",
      " 'work' 'would' 'ya' 'yeah' 'year' 'yes' 'yet' 'you' 'your' 'ìï']\n"
     ]
    }
   ],
   "source": [
    "tfidfv = TfidfVectorizer(max_features=200)\n",
    "x= tfidfv.fit_transform(df[\"clean_message\"])\n",
    "print(x.toarray())\n",
    "print(tfidfv.get_feature_names_out())"
   ]
  },
  {
   "cell_type": "code",
   "execution_count": null,
   "id": "111e3a8f",
   "metadata": {},
   "outputs": [],
   "source": []
  }
 ],
 "metadata": {
  "kernelspec": {
   "display_name": "genaienv",
   "language": "python",
   "name": "python3"
  },
  "language_info": {
   "codemirror_mode": {
    "name": "ipython",
    "version": 3
   },
   "file_extension": ".py",
   "mimetype": "text/x-python",
   "name": "python",
   "nbconvert_exporter": "python",
   "pygments_lexer": "ipython3",
   "version": "3.12.10"
  }
 },
 "nbformat": 4,
 "nbformat_minor": 5
}
