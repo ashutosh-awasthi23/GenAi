{
 "cells": [
  {
   "cell_type": "markdown",
   "id": "8ff2f3b0",
   "metadata": {},
   "source": [
    "#### Important imports"
   ]
  },
  {
   "cell_type": "code",
   "execution_count": 17,
   "id": "4b76219d",
   "metadata": {},
   "outputs": [],
   "source": [
    "import nltk\n",
    "from nltk.stem import PorterStemmer\n",
    "from nltk.stem import RegexpStemmer\n",
    "from nltk.stem import SnowballStemmer\n",
    "from nltk.stem import WordNetLemmatizer"
   ]
  },
  {
   "cell_type": "code",
   "execution_count": 18,
   "id": "5999d093",
   "metadata": {},
   "outputs": [
    {
     "name": "stderr",
     "output_type": "stream",
     "text": [
      "[nltk_data] Downloading package wordnet to\n",
      "[nltk_data]     C:\\Users\\ashutoshawasthi\\AppData\\Roaming\\nltk_data...\n"
     ]
    },
    {
     "data": {
      "text/plain": [
       "True"
      ]
     },
     "execution_count": 18,
     "metadata": {},
     "output_type": "execute_result"
    }
   ],
   "source": [
    "nltk.download(\"wordnet\")"
   ]
  },
  {
   "cell_type": "code",
   "execution_count": 7,
   "id": "33563019",
   "metadata": {},
   "outputs": [],
   "source": [
    "words = [\"eating\" , \"eats\",\"eaten\",\"writing\",\"writes\",\"programming\",\"programs\",\"history\",\"finally\",\"finalize\"]"
   ]
  },
  {
   "cell_type": "markdown",
   "id": "54d7404b",
   "metadata": {},
   "source": [
    "#### Porter Stemming"
   ]
  },
  {
   "cell_type": "code",
   "execution_count": null,
   "id": "8894f3d9",
   "metadata": {},
   "outputs": [
    {
     "name": "stdout",
     "output_type": "stream",
     "text": [
      "eating--------->eat\n",
      "eats--------->eat\n",
      "eaten--------->eaten\n",
      "writing--------->write\n",
      "writes--------->write\n",
      "programming--------->program\n",
      "programs--------->program\n",
      "history--------->histori\n",
      "finally--------->final\n",
      "finalize--------->final\n"
     ]
    }
   ],
   "source": [
    "ps = PorterStemmer()\n",
    "for i in words:\n",
    "    print(i+\"--------->\"+ps.stem(i))\n",
    "    \n",
    "    \n",
    "#Disadvantages\n",
    "\"\"\"For some words one will not get the correct word\"\"\""
   ]
  },
  {
   "cell_type": "code",
   "execution_count": null,
   "id": "0039873c",
   "metadata": {},
   "outputs": [],
   "source": []
  },
  {
   "cell_type": "markdown",
   "id": "fd043567",
   "metadata": {},
   "source": [
    "#### RegexpStemmer Class"
   ]
  },
  {
   "cell_type": "code",
   "execution_count": 9,
   "id": "3f52e0a7",
   "metadata": {},
   "outputs": [
    {
     "data": {
      "text/plain": [
       "'run'"
      ]
     },
     "execution_count": 9,
     "metadata": {},
     "output_type": "execute_result"
    }
   ],
   "source": [
    "stemmer = RegexpStemmer('ing$|s$|e$|able$', min = 4)\n",
    "stemmer.stem(\"runing\")"
   ]
  },
  {
   "cell_type": "markdown",
   "id": "e44a019c",
   "metadata": {},
   "source": [
    "#### SnowBall Stemmer\n",
    "It works better than porter stemming"
   ]
  },
  {
   "cell_type": "code",
   "execution_count": 13,
   "id": "a951b21a",
   "metadata": {},
   "outputs": [
    {
     "name": "stdout",
     "output_type": "stream",
     "text": [
      "eat\n",
      "eat\n",
      "eaten\n",
      "write\n",
      "write\n",
      "program\n",
      "program\n",
      "histori\n",
      "final\n",
      "final\n"
     ]
    }
   ],
   "source": [
    "stemmer = SnowballStemmer(\"english\") \n",
    "for i in words:\n",
    "    print(stemmer.stem(i))"
   ]
  },
  {
   "cell_type": "markdown",
   "id": "33a6cbea",
   "metadata": {},
   "source": [
    "#### lemmatization"
   ]
  },
  {
   "cell_type": "code",
   "execution_count": 20,
   "id": "f7c9c4ee",
   "metadata": {},
   "outputs": [
    {
     "name": "stdout",
     "output_type": "stream",
     "text": [
      "eating\n",
      "eats\n",
      "eaten\n",
      "writing\n",
      "writes\n",
      "programming\n",
      "program\n",
      "history\n",
      "finally\n",
      "finalize\n"
     ]
    }
   ],
   "source": [
    "lemmatizer = WordNetLemmatizer()\n",
    "for word in words:\n",
    "    print(lemmatizer.lemmatize(word))"
   ]
  },
  {
   "cell_type": "code",
   "execution_count": null,
   "id": "386ad32f",
   "metadata": {},
   "outputs": [],
   "source": []
  }
 ],
 "metadata": {
  "kernelspec": {
   "display_name": "genaienv",
   "language": "python",
   "name": "python3"
  },
  "language_info": {
   "codemirror_mode": {
    "name": "ipython",
    "version": 3
   },
   "file_extension": ".py",
   "mimetype": "text/x-python",
   "name": "python",
   "nbconvert_exporter": "python",
   "pygments_lexer": "ipython3",
   "version": "3.13.3"
  }
 },
 "nbformat": 4,
 "nbformat_minor": 5
}
