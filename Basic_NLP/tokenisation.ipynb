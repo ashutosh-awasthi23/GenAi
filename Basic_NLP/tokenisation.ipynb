{
 "cells": [
  {
   "cell_type": "markdown",
   "id": "7e5ee821",
   "metadata": {},
   "source": [
    "### Important imports"
   ]
  },
  {
   "cell_type": "code",
   "execution_count": null,
   "id": "12fbfd97",
   "metadata": {},
   "outputs": [],
   "source": [
    "import nltk\n",
    "from nltk.tokenize import sent_tokenize\n",
    "from nltk.tokenize import word_tokenize\n",
    "from nltk.tokenize import wordpunct_tokenize     #Will treat puntuation separately\n",
    "from nltk.tokenize import TreebankWordTokenizer  #full stop will not be a separate word (exception is last full stop which will be treated as a separate token)"
   ]
  },
  {
   "cell_type": "code",
   "execution_count": 17,
   "id": "dd584a31",
   "metadata": {},
   "outputs": [
    {
     "name": "stderr",
     "output_type": "stream",
     "text": [
      "[nltk_data] Downloading package punkt_tab to\n",
      "[nltk_data]     C:\\Users\\ashutoshawasthi\\AppData\\Roaming\\nltk_data...\n",
      "[nltk_data]   Unzipping tokenizers\\punkt_tab.zip.\n"
     ]
    },
    {
     "data": {
      "text/plain": [
       "True"
      ]
     },
     "execution_count": 17,
     "metadata": {},
     "output_type": "execute_result"
    }
   ],
   "source": [
    "nltk.download(\"punkt_tab\")"
   ]
  },
  {
   "cell_type": "markdown",
   "id": "9db730b4",
   "metadata": {},
   "source": [
    "#### sent tokenize"
   ]
  },
  {
   "cell_type": "code",
   "execution_count": 27,
   "id": "27a2950a",
   "metadata": {},
   "outputs": [],
   "source": [
    "corpus =  \" \" \"Hello My name is Ashutosh Awasthi! I'm doing good. I might go to my home town next week. \" \" \""
   ]
  },
  {
   "cell_type": "code",
   "execution_count": 28,
   "id": "9196fc8b",
   "metadata": {},
   "outputs": [
    {
     "data": {
      "text/plain": [
       "[' Hello My name is Ashutosh Awasthi!',\n",
       " \"I'm doing good.\",\n",
       " 'I might go to my home town next week.']"
      ]
     },
     "execution_count": 28,
     "metadata": {},
     "output_type": "execute_result"
    }
   ],
   "source": [
    "sent_tokenize(corpus)"
   ]
  },
  {
   "cell_type": "markdown",
   "id": "a9d4cbcc",
   "metadata": {},
   "source": [
    "#### word tokenize"
   ]
  },
  {
   "cell_type": "code",
   "execution_count": 31,
   "id": "23e14637",
   "metadata": {},
   "outputs": [
    {
     "name": "stdout",
     "output_type": "stream",
     "text": [
      "Hello\n",
      "My\n",
      "name\n",
      "is\n",
      "Ashutosh\n",
      "Awasthi\n",
      "!\n",
      "I\n",
      "'m\n",
      "doing\n",
      "good\n",
      ".\n",
      "I\n",
      "might\n",
      "go\n",
      "to\n",
      "my\n",
      "home\n",
      "town\n",
      "next\n",
      "week\n",
      ".\n"
     ]
    }
   ],
   "source": [
    "words = word_tokenize(corpus)\n",
    "for i in words:\n",
    "    print(i)\n"
   ]
  },
  {
   "cell_type": "markdown",
   "id": "974d05fb",
   "metadata": {},
   "source": [
    "### TreebankWordTokenizer"
   ]
  },
  {
   "cell_type": "code",
   "execution_count": 37,
   "id": "99f9c5b9",
   "metadata": {},
   "outputs": [
    {
     "data": {
      "text/plain": [
       "['Hello',\n",
       " 'My',\n",
       " 'name',\n",
       " 'is',\n",
       " 'Ashutosh',\n",
       " 'Awasthi',\n",
       " '!',\n",
       " 'I',\n",
       " \"'m\",\n",
       " 'doing',\n",
       " 'good.',\n",
       " 'I',\n",
       " 'might',\n",
       " 'go',\n",
       " 'to',\n",
       " 'my',\n",
       " 'home',\n",
       " 'town',\n",
       " 'next',\n",
       " 'week',\n",
       " '.']"
      ]
     },
     "execution_count": 37,
     "metadata": {},
     "output_type": "execute_result"
    }
   ],
   "source": [
    "tokenizer = TreebankWordTokenizer()\n",
    "tokenizer.tokenize(corpus)"
   ]
  },
  {
   "cell_type": "code",
   "execution_count": 38,
   "id": "da5888d8",
   "metadata": {},
   "outputs": [
    {
     "data": {
      "text/plain": [
       "['Hello',\n",
       " 'My',\n",
       " 'name',\n",
       " 'is',\n",
       " 'Ashutosh',\n",
       " 'Awasthi',\n",
       " '!',\n",
       " 'I',\n",
       " \"'\",\n",
       " 'm',\n",
       " 'doing',\n",
       " 'good',\n",
       " '.',\n",
       " 'I',\n",
       " 'might',\n",
       " 'go',\n",
       " 'to',\n",
       " 'my',\n",
       " 'home',\n",
       " 'town',\n",
       " 'next',\n",
       " 'week',\n",
       " '.']"
      ]
     },
     "execution_count": 38,
     "metadata": {},
     "output_type": "execute_result"
    }
   ],
   "source": [
    "wordpunct_tokenize(corpus)"
   ]
  }
 ],
 "metadata": {
  "kernelspec": {
   "display_name": "genaienv",
   "language": "python",
   "name": "python3"
  },
  "language_info": {
   "codemirror_mode": {
    "name": "ipython",
    "version": 3
   },
   "file_extension": ".py",
   "mimetype": "text/x-python",
   "name": "python",
   "nbconvert_exporter": "python",
   "pygments_lexer": "ipython3",
   "version": "3.13.3"
  }
 },
 "nbformat": 4,
 "nbformat_minor": 5
}
